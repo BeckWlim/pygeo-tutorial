{
 "cells": [
  {
   "cell_type": "code",
   "execution_count": 6,
   "metadata": {},
   "outputs": [
    {
     "name": "stderr",
     "output_type": "stream",
     "text": [
      "C:\\Users\\Beck\\AppData\\Local\\Temp\\ipykernel_15952\\1172917081.py:4: UserWarning: Could not infer format, so each element will be parsed individually, falling back to `dateutil`. To ensure parsing is consistent and as-expected, please specify a format.\n",
      "  data['Stime'] = pd.to_datetime(data['Stime'])\n"
     ]
    }
   ],
   "source": [
    "import pandas as pd\n",
    "data = pd.read_csv(r'../data-sample/TaxiData-Sample', header=None)\n",
    "data.columns = ['VehicleNum', 'Stime', 'Lng', 'Lat', 'OpenStatus', 'Speed']\n",
    "data['Stime'] = pd.to_datetime(data['Stime'])"
   ]
  },
  {
   "cell_type": "code",
   "execution_count": 4,
   "metadata": {},
   "outputs": [
    {
     "data": {
      "text/html": [
       "<div>\n",
       "<style scoped>\n",
       "    .dataframe tbody tr th:only-of-type {\n",
       "        vertical-align: middle;\n",
       "    }\n",
       "\n",
       "    .dataframe tbody tr th {\n",
       "        vertical-align: top;\n",
       "    }\n",
       "\n",
       "    .dataframe thead th {\n",
       "        text-align: right;\n",
       "    }\n",
       "</style>\n",
       "<table border=\"1\" class=\"dataframe\">\n",
       "  <thead>\n",
       "    <tr style=\"text-align: right;\">\n",
       "      <th></th>\n",
       "      <th>VehicleNum</th>\n",
       "      <th>Stime</th>\n",
       "      <th>SLng</th>\n",
       "      <th>SLat</th>\n",
       "      <th>ELng</th>\n",
       "      <th>ELat</th>\n",
       "      <th>Etime</th>\n",
       "    </tr>\n",
       "  </thead>\n",
       "  <tbody>\n",
       "    <tr>\n",
       "      <th>0</th>\n",
       "      <td>22223</td>\n",
       "      <td>00:03:23</td>\n",
       "      <td>114.167465</td>\n",
       "      <td>22.562468</td>\n",
       "      <td>114.225235</td>\n",
       "      <td>22.552750</td>\n",
       "      <td>00:10:48</td>\n",
       "    </tr>\n",
       "    <tr>\n",
       "      <th>1</th>\n",
       "      <td>22223</td>\n",
       "      <td>00:11:33</td>\n",
       "      <td>114.227150</td>\n",
       "      <td>22.554167</td>\n",
       "      <td>114.229218</td>\n",
       "      <td>22.560217</td>\n",
       "      <td>00:15:19</td>\n",
       "    </tr>\n",
       "    <tr>\n",
       "      <th>2</th>\n",
       "      <td>22223</td>\n",
       "      <td>00:17:13</td>\n",
       "      <td>114.231354</td>\n",
       "      <td>22.562166</td>\n",
       "      <td>114.255798</td>\n",
       "      <td>22.590967</td>\n",
       "      <td>00:29:06</td>\n",
       "    </tr>\n",
       "    <tr>\n",
       "      <th>3</th>\n",
       "      <td>22223</td>\n",
       "      <td>00:36:45</td>\n",
       "      <td>114.240196</td>\n",
       "      <td>22.563650</td>\n",
       "      <td>114.119965</td>\n",
       "      <td>22.566668</td>\n",
       "      <td>00:54:42</td>\n",
       "    </tr>\n",
       "    <tr>\n",
       "      <th>4</th>\n",
       "      <td>22223</td>\n",
       "      <td>01:01:14</td>\n",
       "      <td>114.135414</td>\n",
       "      <td>22.575933</td>\n",
       "      <td>114.166748</td>\n",
       "      <td>22.608267</td>\n",
       "      <td>01:08:17</td>\n",
       "    </tr>\n",
       "  </tbody>\n",
       "</table>\n",
       "</div>"
      ],
      "text/plain": [
       "   VehicleNum     Stime        SLng       SLat        ELng       ELat  \\\n",
       "0       22223  00:03:23  114.167465  22.562468  114.225235  22.552750   \n",
       "1       22223  00:11:33  114.227150  22.554167  114.229218  22.560217   \n",
       "2       22223  00:17:13  114.231354  22.562166  114.255798  22.590967   \n",
       "3       22223  00:36:45  114.240196  22.563650  114.119965  22.566668   \n",
       "4       22223  01:01:14  114.135414  22.575933  114.166748  22.608267   \n",
       "\n",
       "      Etime  \n",
       "0  00:10:48  \n",
       "1  00:15:19  \n",
       "2  00:29:06  \n",
       "3  00:54:42  \n",
       "4  01:08:17  "
      ]
     },
     "execution_count": 4,
     "metadata": {},
     "output_type": "execute_result"
    }
   ],
   "source": [
    "TaxiOD = pd.read_csv(r'../data-sample/TaxiOD.csv')\n",
    "TaxiOD.columns = [\n",
    "    'VehicleNum', 'Stime', 'SLng', 'SLat', 'ELng', 'ELat', 'Etime'\n",
    "]\n",
    "TaxiOD.head()"
   ]
  },
  {
   "cell_type": "code",
   "execution_count": 8,
   "metadata": {},
   "outputs": [
    {
     "data": {
      "text/html": [
       "<div>\n",
       "<style scoped>\n",
       "    .dataframe tbody tr th:only-of-type {\n",
       "        vertical-align: middle;\n",
       "    }\n",
       "\n",
       "    .dataframe tbody tr th {\n",
       "        vertical-align: top;\n",
       "    }\n",
       "\n",
       "    .dataframe thead th {\n",
       "        text-align: right;\n",
       "    }\n",
       "</style>\n",
       "<table border=\"1\" class=\"dataframe\">\n",
       "  <thead>\n",
       "    <tr style=\"text-align: right;\">\n",
       "      <th></th>\n",
       "      <th>Stime</th>\n",
       "      <th>VehicleNum</th>\n",
       "    </tr>\n",
       "  </thead>\n",
       "  <tbody>\n",
       "    <tr>\n",
       "      <th>0</th>\n",
       "      <td>0</td>\n",
       "      <td>68745</td>\n",
       "    </tr>\n",
       "    <tr>\n",
       "      <th>1</th>\n",
       "      <td>1</td>\n",
       "      <td>63142</td>\n",
       "    </tr>\n",
       "    <tr>\n",
       "      <th>2</th>\n",
       "      <td>2</td>\n",
       "      <td>60680</td>\n",
       "    </tr>\n",
       "    <tr>\n",
       "      <th>3</th>\n",
       "      <td>3</td>\n",
       "      <td>57494</td>\n",
       "    </tr>\n",
       "    <tr>\n",
       "      <th>4</th>\n",
       "      <td>4</td>\n",
       "      <td>57060</td>\n",
       "    </tr>\n",
       "  </tbody>\n",
       "</table>\n",
       "</div>"
      ],
      "text/plain": [
       "   Stime  VehicleNum\n",
       "0      0       68745\n",
       "1      1       63142\n",
       "2      2       60680\n",
       "3      3       57494\n",
       "4      4       57060"
      ]
     },
     "execution_count": 8,
     "metadata": {},
     "output_type": "execute_result"
    }
   ],
   "source": [
    "hourcout = data.groupby(data['Stime'].apply(lambda r : r.hour))['VehicleNum'].count().reset_index()\n",
    "hourcout.head()"
   ]
  },
  {
   "cell_type": "code",
   "execution_count": 15,
   "metadata": {},
   "outputs": [
    {
     "data": {
      "text/plain": [
       "(0.0, 80000.0)"
      ]
     },
     "execution_count": 15,
     "metadata": {},
     "output_type": "execute_result"
    },
    {
     "data": {
      "image/png": "[encoded data removed]",
      "text/plain": [
       "<Figure size 800x400 with 1 Axes>"
      ]
     },
     "metadata": {},
     "output_type": "display_data"
    }
   ],
   "source": [
    "import matplotlib.pyplot as plt\n",
    "from matplotlib.ticker import ScalarFormatter\n",
    "fig = plt.figure(1, (8, 4))\n",
    "ax = plt.subplot(111)\n",
    "plt.sca(ax)\n",
    "plt.plot(hourcout['Stime'], hourcout['VehicleNum'], 'k-', hourcout['Stime'], hourcout['VehicleNum'], 'k.')\n",
    "plt.bar(hourcout['Stime'], hourcout['VehicleNum'], width=0.5)\n",
    "y_formatter = ScalarFormatter(useMathText=True)\n",
    "y_formatter.set_powerlimits((-2, 2))\n",
    "ax.yaxis.set_major_formatter(y_formatter)\n",
    "plt.title('Hourly data volume')\n",
    "plt.ylim(0, 80000)"
   ]
  }
 ],
 "metadata": {
  "kernelspec": {
   "display_name": "torch",
   "language": "python",
   "name": "torch"
  },
  "language_info": {
   "codemirror_mode": {
    "name": "ipython",
    "version": 3
   },
   "file_extension": ".py",
   "mimetype": "text/x-python",
   "name": "python",
   "nbconvert_exporter": "python",
   "pygments_lexer": "ipython3",
   "version": "3.11.9"
  }
 },
 "nbformat": 4,
 "nbformat_minor": 2
}
