{
 "cells": [
  {
   "cell_type": "code",
   "execution_count": 1,
   "metadata": {},
   "outputs": [
    {
     "data": {
      "text/html": [
       "<div>\n",
       "<style scoped>\n",
       "    .dataframe tbody tr th:only-of-type {\n",
       "        vertical-align: middle;\n",
       "    }\n",
       "\n",
       "    .dataframe tbody tr th {\n",
       "        vertical-align: top;\n",
       "    }\n",
       "\n",
       "    .dataframe thead th {\n",
       "        text-align: right;\n",
       "    }\n",
       "</style>\n",
       "<table border=\"1\" class=\"dataframe\">\n",
       "  <thead>\n",
       "    <tr style=\"text-align: right;\">\n",
       "      <th></th>\n",
       "      <th>linename</th>\n",
       "      <th>stationname</th>\n",
       "      <th>stationgeo</th>\n",
       "    </tr>\n",
       "  </thead>\n",
       "  <tbody>\n",
       "    <tr>\n",
       "      <th>0</th>\n",
       "      <td>650路(锦程文丰公交场站-凤凰山脚)</td>\n",
       "      <td>['锦程文丰公交场站', '明士达公司', '鸿桥工业园西', '鸿桥工业园', '三洋部件...</td>\n",
       "      <td>['113.78947398104066,22.728276040706554', '113...</td>\n",
       "    </tr>\n",
       "    <tr>\n",
       "      <th>1</th>\n",
       "      <td>650路(凤凰山脚-锦程文丰公交场站)</td>\n",
       "      <td>['凤凰山脚', '凤凰第二工业区', '凤凰台湾街', '凤凰社区', '凤凰广场', '...</td>\n",
       "      <td>['113.8559999718322,22.68862002580157', '113.8...</td>\n",
       "    </tr>\n",
       "    <tr>\n",
       "      <th>2</th>\n",
       "      <td>m502a线(龙西公交总站-龙西公交总站)</td>\n",
       "      <td>['龙西公交总站', '添利工业园', '瓦窑坑', '五联社区', '崇和学校', '美信...</td>\n",
       "      <td>['114.25368997182035,22.759529012563924', '114...</td>\n",
       "    </tr>\n",
       "    <tr>\n",
       "      <th>3</th>\n",
       "      <td>高快巴士39路(华富路②-坂田风门坳总站)</td>\n",
       "      <td>['华富路②', '宏杨学校', '坂田地铁站', '扬马市场', '金洲嘉丽园', '坂田...</td>\n",
       "      <td>['114.08788496287927,22.548925018156375', '114...</td>\n",
       "    </tr>\n",
       "    <tr>\n",
       "      <th>4</th>\n",
       "      <td>高快巴士39路(坂田风门坳总站-华富路②)</td>\n",
       "      <td>['坂田风门坳总站', '岗头市场', '华为基地', '华为单身公寓北', '万科城', ...</td>\n",
       "      <td>['114.0748459685757,22.675367010065482', '114....</td>\n",
       "    </tr>\n",
       "  </tbody>\n",
       "</table>\n",
       "</div>"
      ],
      "text/plain": [
       "                linename                                        stationname  \\\n",
       "0    650路(锦程文丰公交场站-凤凰山脚)  ['锦程文丰公交场站', '明士达公司', '鸿桥工业园西', '鸿桥工业园', '三洋部件...   \n",
       "1    650路(凤凰山脚-锦程文丰公交场站)  ['凤凰山脚', '凤凰第二工业区', '凤凰台湾街', '凤凰社区', '凤凰广场', '...   \n",
       "2  m502a线(龙西公交总站-龙西公交总站)  ['龙西公交总站', '添利工业园', '瓦窑坑', '五联社区', '崇和学校', '美信...   \n",
       "3  高快巴士39路(华富路②-坂田风门坳总站)  ['华富路②', '宏杨学校', '坂田地铁站', '扬马市场', '金洲嘉丽园', '坂田...   \n",
       "4  高快巴士39路(坂田风门坳总站-华富路②)  ['坂田风门坳总站', '岗头市场', '华为基地', '华为单身公寓北', '万科城', ...   \n",
       "\n",
       "                                          stationgeo  \n",
       "0  ['113.78947398104066,22.728276040706554', '113...  \n",
       "1  ['113.8559999718322,22.68862002580157', '113.8...  \n",
       "2  ['114.25368997182035,22.759529012563924', '114...  \n",
       "3  ['114.08788496287927,22.548925018156375', '114...  \n",
       "4  ['114.0748459685757,22.675367010065482', '114....  "
      ]
     },
     "execution_count": 1,
     "metadata": {},
     "output_type": "execute_result"
    }
   ],
   "source": [
    "import pandas as pd\n",
    "\n",
    "busline = pd.read_csv(r'../data-sample/busline.csv')\n",
    "busline.head()"
   ]
  }
 ],
 "metadata": {
  "kernelspec": {
   "display_name": "map",
   "language": "python",
   "name": "map"
  },
  "language_info": {
   "codemirror_mode": {
    "name": "ipython",
    "version": 3
   },
   "file_extension": ".py",
   "mimetype": "text/x-python",
   "name": "python",
   "nbconvert_exporter": "python",
   "pygments_lexer": "ipython3",
   "version": "3.11.8"
  }
 },
 "nbformat": 4,
 "nbformat_minor": 2
}
